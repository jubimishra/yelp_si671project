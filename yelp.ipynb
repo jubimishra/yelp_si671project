{
 "cells": [
  {
   "cell_type": "code",
   "execution_count": 1,
   "metadata": {
    "collapsed": false
   },
   "outputs": [],
   "source": [
    "import pandas as pd\n",
    "from collections import Counter\n",
    "import json\n",
    "from pandas.io.json import json_normalize\n",
    "\n",
    "# Changing filenames to variables\n",
    "\n",
    "business = \"yelp_academic_dataset_business.json\"\n",
    "checkin =\"yelp_academic_dataset_checkin.json\"\n",
    "review = \"yelp_academic_dataset_review.json\"\n",
    "tip  = \"yelp_academic_dataset_tip.json\"\n",
    "user  = \"yelp_academic_dataset_user.json\"\n",
    "\n",
    "# ''' categoryCount keeps track of number of businesses in each category '''\n",
    "categoryCount = Counter()\n",
    "\n",
    "\n",
    "# with open(business,\"r\") as bizFile,open(\"categories\",\"w\") as output:\n",
    "#     for line in bizFile:\n",
    "#         string = json.loads(line)\n",
    "#         categories = string['categories']\n",
    "#         output.write(str(categories)+\"\\n\")\n",
    "#         for category in categories:\n",
    "#             categoryCount.update((category,))\n",
    "#        break\n",
    "\n",
    "#Sort the counter, it is a list now instead of a counter\n",
    "# categoryCount = categoryCount.most_common()\n",
    "# print (type(categoryCount))\n",
    "\n",
    "# with open(\"categoryCountFile\",\"w\") as output:\n",
    "#     for item in categoryCount:\n",
    "#         val =  item[0] + \"\\t\" + str(item[1]) + \"\\n\"\n",
    "#         output.write (val)"
   ]
  },
  {
   "cell_type": "code",
   "execution_count": 47,
   "metadata": {
    "collapsed": false
   },
   "outputs": [],
   "source": [
    "#Creates a dataframe for businesses\n",
    "\n",
    "# with open('yelp_academic_dataset_business.json', 'rb') as f:\n",
    "# #     data = f.readlines()\n",
    "#     data=map(lambda x: x.rstrip(), f.readlines())\n",
    "    \n",
    "# # remove the trailing \"\\n\" from each line\n",
    "# # data = map(lambda x: x.rstrip(), data)\n",
    "\n",
    "# data_json_str = \"[\" + ','.join(data) + \"]\"\n",
    "# df_biz=pd.read_json(data_json_str)"
   ]
  },
  {
   "cell_type": "code",
   "execution_count": 3,
   "metadata": {
    "collapsed": false
   },
   "outputs": [],
   "source": [
    "#Creates a data frame for reviews of businesses\n",
    "# with open('yelp_academic_dataset_review.json', 'rb') as f:\n",
    "# #     data = f.readlines(1)\n",
    "#     data=map(lambda x: x.rstrip(), f.readlines())\n",
    "\n",
    "# # remove the trailing \"\\n\" from each line\n",
    "# # data = map(lambda x: x.rstrip(), data)\n",
    "\n",
    "# data_json_str = \"[\" + ','.join(data) + \"]\"\n",
    "# df_review=pd.read_json(data_json_str)"
   ]
  },
  {
   "cell_type": "code",
   "execution_count": 5,
   "metadata": {
    "collapsed": true
   },
   "outputs": [],
   "source": [
    "#Creates pickle files for business and reviews data\n",
    "\n",
    "# df_biz.to_pickle('business_dataframe.pkl')\n",
    "# df_review.to_pickle('reviews_dataframe.pkl')"
   ]
  },
  {
   "cell_type": "code",
   "execution_count": 59,
   "metadata": {
    "collapsed": false
   },
   "outputs": [],
   "source": [
    "#Read data from pickle files\n",
    "\n",
    "# df_biz= pd.read_pickle('business_dataframe.pkl')\n",
    "# df_review = pd.read_pickle('reviews_dataframe.pkl')"
   ]
  },
  {
   "cell_type": "code",
   "execution_count": 7,
   "metadata": {
    "collapsed": false
   },
   "outputs": [
    {
     "name": "stdout",
     "output_type": "stream",
     "text": [
      "Index([   u'attributes',   u'business_id',    u'categories',          u'city',\n",
      "        u'full_address',         u'hours',      u'latitude',     u'longitude',\n",
      "                u'name', u'neighborhoods',          u'open',  u'review_count',\n",
      "               u'stars',         u'state',          u'type'],\n",
      "      dtype='object')\n"
     ]
    },
    {
     "data": {
      "text/plain": [
       "Index([u'business_id',        u'date',   u'review_id',       u'stars',\n",
       "              u'text',        u'type',     u'user_id',       u'votes'],\n",
       "      dtype='object')"
      ]
     },
     "execution_count": 7,
     "metadata": {},
     "output_type": "execute_result"
    }
   ],
   "source": [
    "print df_biz.columns\n",
    "df_review.columns"
   ]
  },
  {
   "cell_type": "code",
   "execution_count": 2,
   "metadata": {
    "collapsed": false
   },
   "outputs": [
    {
     "name": "stdout",
     "output_type": "stream",
     "text": [
      "1569264\n"
     ]
    }
   ],
   "source": [
    "# df_biz_subset = df_biz[[1,2,3,13, 8, 11, 12]]\n",
    "# df_biz_review= pd.merge(df_biz_subset, df_review, on=\"business_id\", how=\"inner\")\n",
    "\n",
    "# df_biz_review.to_pickle('df_biz_review.pkl')\n",
    "\n",
    "df_biz_review= pd.read_pickle('df_biz_review.pkl')\n",
    "print len(df_biz_review)\n",
    "\n",
    "# biz_categories = set(c for cat in df_biz_review[\"categories\"] for c in cat)\n"
   ]
  },
  {
   "cell_type": "code",
   "execution_count": 19,
   "metadata": {
    "collapsed": false
   },
   "outputs": [
    {
     "data": {
      "text/plain": [
       "set"
      ]
     },
     "execution_count": 19,
     "metadata": {},
     "output_type": "execute_result"
    }
   ],
   "source": [
    "# pd.unique(df_biz_review.categories.ravel())\n",
    "biz_categories = set(c for cat in df_biz_review[\"categories\"] for c in cat)\n",
    "biz_categories\n"
   ]
  },
  {
   "cell_type": "code",
   "execution_count": 3,
   "metadata": {
    "collapsed": false
   },
   "outputs": [],
   "source": [
    "from gensim import corpora, models, similarities\n",
    "import re\n",
    "from nltk.corpus import stopwords"
   ]
  },
  {
   "cell_type": "code",
   "execution_count": 35,
   "metadata": {
    "collapsed": false
   },
   "outputs": [],
   "source": [
    "# i=df_biz_review[\"categories\"].index\n",
    "stoplist = set(stopwords.words(\"english\"))\n",
    "\n",
    "def lda_cal(category, numtopics):\n",
    "    reviews=\"\"\n",
    "    corpus = []\n",
    "    for i in range(0,1569264):\n",
    "    #     print df_biz_review[\"categories\"].ix[i]\n",
    "        if category in df_biz_review[\"categories\"].ix[i]:\n",
    "            reviews=reviews + df_biz_review[\"text\"].ix[i]\n",
    "    # Remove punctuations\n",
    "    reviews = re.sub(r'[^a-zA-Z]', ' ', reviews)\n",
    "\n",
    "    # # To lowercase\n",
    "    reviews = reviews.lower()\n",
    "\n",
    "    # # Remove stop words\n",
    "    texts = [word for word in reviews.lower().split() if word not in stoplist]\n",
    "\n",
    "    corpus.append(texts)\n",
    "    # corpus\n",
    "    # # Build dictionary\n",
    "    dictionary = corpora.Dictionary(corpus)\n",
    "    dictionary.save('restaurant_reviews.dict')\n",
    "\n",
    "    # # Build vectorized corpus\n",
    "    corpus_2 = [dictionary.doc2bow(text) for text in corpus]\n",
    "    # corpus_2\n",
    "    lda = models.LdaModel(corpus_2, num_topics=numtopics, id2word=dictionary)\n",
    "    return lda.show_topics(num_topics=numtopics)"
   ]
  },
  {
   "cell_type": "code",
   "execution_count": 36,
   "metadata": {
    "collapsed": false
   },
   "outputs": [
    {
     "name": "stderr",
     "output_type": "stream",
     "text": [
      "WARNING:gensim.models.ldamodel:too few updates, training might not converge; consider increasing the number of passes or iterations to improve accuracy\n"
     ]
    },
    {
     "data": {
      "text/plain": [
       "[(0,\n",
       "  u'0.015*dr + 0.010*office + 0.010*doctor + 0.009*staff + 0.008*time + 0.007*appointment + 0.007*back + 0.006*would + 0.006*get + 0.006*one'),\n",
       " (1,\n",
       "  u'0.019*dr + 0.011*doctor + 0.009*office + 0.008*time + 0.008*get + 0.007*would + 0.007*appointment + 0.006*one + 0.006*see + 0.006*care'),\n",
       " (2,\n",
       "  u'0.013*dr + 0.010*office + 0.008*would + 0.008*staff + 0.008*doctor + 0.008*time + 0.006*get + 0.006*back + 0.005*go + 0.005*like'),\n",
       " (3,\n",
       "  u'0.015*dr + 0.010*office + 0.009*time + 0.009*doctor + 0.008*would + 0.008*get + 0.007*appointment + 0.006*staff + 0.006*like + 0.006*told'),\n",
       " (4,\n",
       "  u'0.014*dr + 0.012*time + 0.009*doctor + 0.008*office + 0.007*get + 0.007*back + 0.006*staff + 0.006*appointment + 0.006*one + 0.006*would')]"
      ]
     },
     "execution_count": 36,
     "metadata": {},
     "output_type": "execute_result"
    }
   ],
   "source": [
    "lda_cal(\"Doctors\", 5)"
   ]
  },
  {
   "cell_type": "code",
   "execution_count": null,
   "metadata": {
    "collapsed": false
   },
   "outputs": [],
   "source": []
  },
  {
   "cell_type": "code",
   "execution_count": null,
   "metadata": {
    "collapsed": false
   },
   "outputs": [],
   "source": []
  },
  {
   "cell_type": "code",
   "execution_count": null,
   "metadata": {
    "collapsed": true
   },
   "outputs": [],
   "source": []
  },
  {
   "cell_type": "code",
   "execution_count": null,
   "metadata": {
    "collapsed": true
   },
   "outputs": [],
   "source": []
  }
 ],
 "metadata": {
  "kernelspec": {
   "display_name": "Python 2",
   "language": "python",
   "name": "python2"
  },
  "language_info": {
   "codemirror_mode": {
    "name": "ipython",
    "version": 2
   },
   "file_extension": ".py",
   "mimetype": "text/x-python",
   "name": "python",
   "nbconvert_exporter": "python",
   "pygments_lexer": "ipython2",
   "version": "2.7.10"
  }
 },
 "nbformat": 4,
 "nbformat_minor": 0
}
